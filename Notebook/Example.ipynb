{
 "cells": [
  {
   "cell_type": "code",
   "execution_count": 1,
   "id": "d1335200-6409-4179-b7f1-a1ea0e1ee050",
   "metadata": {},
   "outputs": [
    {
     "name": "stdout",
     "output_type": "stream",
     "text": [
      "4\n"
     ]
    }
   ],
   "source": [
    "#Kernel: Python\n",
    "a = 4\n",
    "print(a)"
   ]
  },
  {
   "cell_type": "code",
   "execution_count": 2,
   "id": "962d8e7c-2394-4847-8f33-341ed5bfae8f",
   "metadata": {},
   "outputs": [
    {
     "data": {
      "text/plain": [
       "13"
      ]
     },
     "execution_count": 2,
     "metadata": {},
     "output_type": "execute_result"
    }
   ],
   "source": [
    "#Kernel: Python\n",
    "a = 6\n",
    "b = 7\n",
    "a + b"
   ]
  },
  {
   "cell_type": "code",
   "execution_count": 3,
   "id": "ecfb0c3f-6952-4221-9918-7b55fd408b71",
   "metadata": {},
   "outputs": [
    {
     "data": {
      "text/html": [
       "<div style='color:  green;'>Total Time Taken - 5.43s\n",
       "</div>"
      ]
     },
     "metadata": {},
     "output_type": "display_data"
    },
    {
     "data": {
      "text/html": [
       "<details open><summary><b>Database: local::DB</b></summary><div style='margin-left: 20px;'>\n",
       "<details><summary><b>Table: sample__sport</b></summary><div style='margin-left: 20px;'>\n",
       "<table border='1' style='border-collapse: collapse;'>\n",
       "<tr><th>Column Name</th><th>Type</th></tr>\n",
       "<tr><td>Athlete</td><td>VARCHAR(0)</td></tr>\n",
       "<tr><td>Age</td><td>BIGINT</td></tr>\n",
       "<tr><td>Country</td><td>VARCHAR(0)</td></tr>\n",
       "<tr><td>Year</td><td>BIGINT</td></tr>\n",
       "<tr><td>Date</td><td>DATE</td></tr>\n",
       "<tr><td>Sport</td><td>VARCHAR(0)</td></tr>\n",
       "<tr><td>Gold</td><td>BIGINT</td></tr>\n",
       "<tr><td>Silver</td><td>BIGINT</td></tr>\n",
       "<tr><td>Bronze</td><td>BIGINT</td></tr>\n",
       "</table></div></details>\n",
       "<details><summary><b>Table: sample__tree</b></summary><div style='margin-left: 20px;'>\n",
       "<table border='1' style='border-collapse: collapse;'>\n",
       "<tr><th>Column Name</th><th>Type</th></tr>\n",
       "<tr><td>city</td><td>VARCHAR(0)</td></tr>\n",
       "<tr><td>country</td><td>VARCHAR(0)</td></tr>\n",
       "<tr><td>year</td><td>BIGINT</td></tr>\n",
       "<tr><td>tree</td><td>BIGINT</td></tr>\n",
       "</table></div></details>\n",
       "<details><summary><b>Table: test3</b></summary><div style='margin-left: 20px;'>\n",
       "<table border='1' style='border-collapse: collapse;'>\n",
       "<tr><th>Column Name</th><th>Type</th></tr>\n",
       "<tr><td>EMPLOYEE_ID</td><td>BIGINT</td></tr>\n",
       "<tr><td>FIRST_NAME</td><td>VARCHAR(0)</td></tr>\n",
       "<tr><td>LAST_NAME</td><td>VARCHAR(0)</td></tr>\n",
       "<tr><td>EMAIL</td><td>VARCHAR(0)</td></tr>\n",
       "<tr><td>PHONE_NUMBER</td><td>VARCHAR(0)</td></tr>\n",
       "<tr><td>HIRE_DATE</td><td>VARCHAR(0)</td></tr>\n",
       "<tr><td>JOB_ID</td><td>VARCHAR(0)</td></tr>\n",
       "<tr><td>SALARY</td><td>BIGINT</td></tr>\n",
       "<tr><td>COMMISSION_PCT</td><td>BIGINT</td></tr>\n",
       "<tr><td>MANAGER_ID</td><td>BIGINT</td></tr>\n",
       "<tr><td>DEPARTMENT_ID</td><td>BIGINT</td></tr>\n",
       "</table></div></details>\n",
       "</div></details>"
      ]
     },
     "metadata": {},
     "output_type": "display_data"
    }
   ],
   "source": [
    "#Kernel: Legend\n",
    "db local::DuckDuckConnection"
   ]
  },
  {
   "cell_type": "code",
   "execution_count": null,
   "id": "013ea94e-98c8-4bc8-b2a4-0d49f5b7a63c",
   "metadata": {},
   "outputs": [],
   "source": []
  }
 ],
 "metadata": {
  "kernelspec": {
   "display_name": "PyLegend",
   "language": "pylegend",
   "name": "pylegend_kernel"
  },
  "language_info": {
   "codemirror_mode": "pylegend",
   "file_extension": ".pylgd",
   "mimetype": "text/x-pylegend",
   "name": "pylegend"
  }
 },
 "nbformat": 4,
 "nbformat_minor": 5
}
